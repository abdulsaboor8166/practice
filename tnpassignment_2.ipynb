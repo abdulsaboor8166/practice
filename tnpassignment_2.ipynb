{
  "cells": [
    {
      "cell_type": "markdown",
      "metadata": {
        "id": "view-in-github",
        "colab_type": "text"
      },
      "source": [
        "<a href=\"https://colab.research.google.com/github/abdulsaboor8166/practice/blob/main/tnpassignment_2.ipynb\" target=\"_parent\"><img src=\"https://colab.research.google.com/assets/colab-badge.svg\" alt=\"Open In Colab\"/></a>"
      ]
    },
    {
      "cell_type": "code",
      "execution_count": null,
      "metadata": {
        "colab": {
          "base_uri": "https://localhost:8080/"
        },
        "id": "-f4f_uZU9PnD",
        "outputId": "dd0a6161-3387-4d69-d24b-03b018ef2927"
      },
      "outputs": [
        {
          "output_type": "stream",
          "name": "stdout",
          "text": [
            "enter a number :12\n",
            "enter a number :1\n",
            "enter a number :2\n",
            "enter a number :3\n",
            "enter a number :4\n",
            "sum of all numbers : 22\n",
            "average of all numbers : 4\n"
          ]
        }
      ],
      "source": [
        "# Q1.  Write a program in Python to input 5 numbers from keyboard and find their sum and\n",
        "# average. \n",
        "# Test Data\n",
        "# Input the 5 numbers: 1 2 3 4 5\n",
        "# Expected Output:\n",
        "# Input the 5 numbers:\n",
        "# 1\n",
        "# 2\n",
        "# 3\n",
        "# 4\n",
        "# 5\n",
        "# The sum of 5 no is : 15\n",
        "# The Average is : 3\n",
        "n=5\n",
        "num=0\n",
        "sum=0\n",
        "avg=0\n",
        "i=0\n",
        "while(i<n):\n",
        "  num=int(input(\"enter a number :\"))\n",
        "  sum=sum+num\n",
        "  i=i+1\n",
        "avg=sum//n  \n",
        "print(\"sum of all numbers :\",sum)\n",
        "print(\"average of all numbers :\",avg)\n",
        "\n",
        "\n"
      ]
    },
    {
      "cell_type": "code",
      "execution_count": null,
      "metadata": {
        "colab": {
          "base_uri": "https://localhost:8080/"
        },
        "id": "LFXjGrpt-H01",
        "outputId": "f477290f-7a40-45ac-ad32-70e8a6fb0bb9"
      },
      "outputs": [
        {
          "name": "stdout",
          "output_type": "stream",
          "text": [
            "enter a number :5\n",
            "1 \n",
            "\n",
            "2 3 \n",
            "\n",
            "4 5 6 \n",
            "\n",
            "7 8 9 10 \n",
            "\n",
            "11 12 13 14 15 \n",
            "\n"
          ]
        }
      ],
      "source": [
        "# Q2. Write a program in Python to print the Floyd&#39;s Triangle. \n",
        "# Test Data\n",
        "# Input number of rows: 5\n",
        "# Expected Output:\n",
        "# Input number of rows: 5\n",
        "# 1\n",
        "# 2 3\n",
        "# 4 5 6\n",
        "# 7 8 9 10\n",
        "# 11 12 13 14 15\n",
        "n=int(input(\"enter a number :\"))\n",
        "i=0\n",
        "k=0\n",
        "while(i<n):\n",
        "  j=0\n",
        "  while(j<=i):\n",
        "    k=k+1\n",
        "    print(k,end=\" \" )\n",
        "    j=j+1  \n",
        "  print(\"\\n\")  \n",
        "  i=i+1\n",
        "\n"
      ]
    },
    {
      "cell_type": "code",
      "execution_count": null,
      "metadata": {
        "colab": {
          "base_uri": "https://localhost:8080/"
        },
        "id": "zb-P-JZ9_ogt",
        "outputId": "cb210513-a13d-4b64-e93e-7106a8f6ef2b"
      },
      "outputs": [
        {
          "output_type": "stream",
          "name": "stdout",
          "text": [
            "enter no. of rows :6\n",
            "      x\n",
            "     xxx\n",
            "    xxxxx\n",
            "   xxxxxxx\n",
            "  xxxxxxxxx\n",
            " xxxxxxxxxxx\n",
            "xxxxxxxxxxxxx\n"
          ]
        }
      ],
      "source": [
        "# Q3. Write a program in Python to display the pattern like a diamond. \n",
        "# Input number of rows (half of the diamond) : 7\n",
        "# Expected Output :\n",
        "\n",
        "#       *\n",
        "#      ***\n",
        "#     *****\n",
        "#    *******\n",
        "#   *********\n",
        "#  ***********\n",
        "# *************\n",
        "\n",
        "n=int(input(\"enter no. of rows :\"))\n",
        "i=0\n",
        "while(i<=n):\n",
        "  j=n\n",
        "  while(j>i):\n",
        "    print(\" \",end=\"\")\n",
        "    j=j-1;\n",
        "  k=0\n",
        "  while(k<i):\n",
        "    print(\"x\",end=\"\")\n",
        "    if(k>0):\n",
        "      print(\"x\",end=\"\");\t\t\t\t\t\n",
        "    k=k+1\n",
        "  print(\"\")\n",
        "  i=i+1;\n",
        "\n",
        "\n"
      ]
    },
    {
      "cell_type": "code",
      "execution_count": null,
      "metadata": {
        "colab": {
          "base_uri": "https://localhost:8080/"
        },
        "id": "W7nl4O1PSiIN",
        "outputId": "dfccb0de-cd21-487a-dd5c-add9461fb534"
      },
      "outputs": [
        {
          "name": "stdout",
          "output_type": "stream",
          "text": [
            "enter a number :-36\n",
            "you enter a negative number \n"
          ]
        }
      ],
      "source": [
        "# Q4. Write a Python program that reads an integer and check whether it is negative, zero, or\n",
        "# positive. \n",
        "# Test Data\n",
        "# Input a number: 7\n",
        "# Expected Output :\n",
        "# Number is positive\n",
        "\n",
        "\n",
        "num=int(input(\"enter a number :\"))\n",
        "if(num==0):\n",
        "  print(\"you enter zero\")\n",
        "elif(num<0):\n",
        "  print('you enter a negative number ')  \n",
        "else:\n",
        "  print(\"you enter a positive number\")"
      ]
    },
    {
      "cell_type": "code",
      "execution_count": null,
      "metadata": {
        "colab": {
          "base_uri": "https://localhost:8080/"
        },
        "id": "zF196JxekjDR",
        "outputId": "710bbb75-4f05-4aa3-e9f9-f3ee828dbdd3"
      },
      "outputs": [
        {
          "name": "stdout",
          "output_type": "stream",
          "text": [
            "enter a number 123456\n",
            "the number you enter contain : 6  digits \n"
          ]
        }
      ],
      "source": [
        "# Q5. Write a Python program that reads a positive integer and count the number of digits the\n",
        "# number has. \n",
        "# Test Data\n",
        "# Input an integer number: 125463\n",
        "# Expected Output:\n",
        "# Number of digits in the number: 6\n",
        "number=int(input(\"enter a number \"))\n",
        "digits=0\n",
        "while(number!=0):\n",
        "  number=number//10\n",
        "  digits=digits+1\n",
        "print(\"the number you enter contain :\",digits,\" digits \")  \n",
        "\n"
      ]
    },
    {
      "cell_type": "code",
      "execution_count": null,
      "metadata": {
        "colab": {
          "base_uri": "https://localhost:8080/"
        },
        "id": "bfgWtQ7blKN3",
        "outputId": "75260d98-cbb1-4695-ccad-a086c046912c"
      },
      "outputs": [
        {
          "name": "stdout",
          "output_type": "stream",
          "text": [
            "enter a number 1\n",
            "enter a number 1\n",
            "enter a number 1\n",
            "all numbers are equal :\n"
          ]
        }
      ],
      "source": [
        "# Q6. Write a Python program that accepts three numbers and prints ;All numbers are equal&quot;\n",
        "# if all three numbers are equal, All numbers are different; if all three numbers are different\n",
        "# and ;Neither all are equal or different; otherwise\n",
        "# Test Data\n",
        "# Input first number: 2564\n",
        "# Input second number: 3526\n",
        "# Input third number: 2456\n",
        "# Expected Output:\n",
        "# All numbers are different\n",
        "num1=int(input(\"enter a number \"))\n",
        "num2=int(input(\"enter a number \"))\n",
        "num3=int(input(\"enter a number \"))\n",
        "if(num1==num2 and num1==num3):\n",
        "  print(\"all numbers are equal :\")\n",
        "elif(num1!=num2 and num2!=num3 and num1!=num3):\n",
        "  print(\"all number are different \")  \n",
        "else :\n",
        "  print(\"Neither all are equal or different\")  "
      ]
    },
    {
      "cell_type": "code",
      "execution_count": null,
      "metadata": {
        "colab": {
          "base_uri": "https://localhost:8080/"
        },
        "id": "_tSZ8Df7nBSi",
        "outputId": "72f0970e-a7da-4f8c-a7bf-9ca5c3653a5b"
      },
      "outputs": [
        {
          "name": "stdout",
          "output_type": "stream",
          "text": [
            "enter a number -34354\n",
            "enter a number 54\n",
            "enter a number 1234\n",
            "you enter number in increasing order \n"
          ]
        }
      ],
      "source": [
        "# Q7. Write a program that accepts three numbers from the user and prints\n",
        "# increasing; if the numbers are in increasing order, ;decreasing; if the numbers are\n",
        "# in decreasing order, and Neither increasing nor decreasing order; otherwise. \n",
        "# Test Data\n",
        "# Input first number: 1524\n",
        "# Input second number: 2345\n",
        "# Input third number: 3321\n",
        "# Expected Output :\n",
        "# Increasing order\n",
        "n1=int(input(\"enter a number \"))\n",
        "n2=int(input(\"enter a number \"))\n",
        "n3=int(input(\"enter a number \"))\n",
        "if(n1<n2 and n2<n3):\n",
        "  print(\"you enter number in increasing order \")\n",
        "elif(n1>n2 and n2>n3):\n",
        "  print(\"you enter number in decreasing order \")\n",
        "else:\n",
        "  print(\"Neither increasing nor decreasing order\")\n"
      ]
    },
    {
      "cell_type": "code",
      "execution_count": null,
      "metadata": {
        "id": "LFwjaUFhotU0",
        "colab": {
          "base_uri": "https://localhost:8080/"
        },
        "outputId": "c23771b0-1c92-4336-ab39-11e08419b0e9"
      },
      "outputs": [
        {
          "output_type": "stream",
          "name": "stdout",
          "text": [
            "inter a number :40585 \n",
            "sum of factorial of all digits : 40585\n",
            "so the number is a strong number \n"
          ]
        }
      ],
      "source": [
        "# A number can be said as a strong number when the sum of the factorial of the\n",
        "# individual digits is equal to the number.\n",
        "# For example, 145 is a strong number.\n",
        "# Enter Any Number: 145\n",
        "# Expected output:\n",
        "# This is strong number\n",
        "num=int(input(\"inter a number :\"))\n",
        "n=num\n",
        "i=0\n",
        "sum=0\n",
        "while(n!=0):\n",
        "  f=n%10\n",
        "  j=1\n",
        "  fact=1\n",
        "  while(f>=j):\n",
        "    fact=fact*j\n",
        "    j=j+1\n",
        "\n",
        "  sum=sum+fact\n",
        "  n=n//10\n",
        "print(\"sum of factorial of all digits :\",sum)\n",
        "if(sum==num):\n",
        "  print(\"so the number is a strong number \")\n",
        "else:\n",
        "  print(\"so the number is not strong number \")  "
      ]
    },
    {
      "cell_type": "code",
      "execution_count": null,
      "metadata": {
        "id": "GXWrNgz85PII",
        "colab": {
          "base_uri": "https://localhost:8080/"
        },
        "outputId": "fd6a0e29-ab08-4fe6-e0f3-913fc7de8660"
      },
      "outputs": [
        {
          "output_type": "stream",
          "name": "stdout",
          "text": [
            "inter a number :371\n",
            "the sum of the cube of digit : 371\n",
            "number is armstrong number\n"
          ]
        }
      ],
      "source": [
        "# Q9. Write a Python program to check given Number is Armstrong Number or not.\n",
        "# Armstrong number is a number that is equal to the sum of cubes of its digits. For example 0, 1,\n",
        "# 153, 370, 371 and 407 are the Armstrong numbers.\n",
        "# 153 = (1*1*1)+(5*5*5)+(3*3*3)  \n",
        "# where:  \n",
        "# (1*1*1)=1  \n",
        "# (5*5*5)=125  \n",
        "# (3*3*3)=27  \n",
        "# So:  \n",
        "# 1+125+27=153\n",
        "# Enter Any Number: 153\n",
        "# Expected output:\n",
        "# This is Armstrong Number\n",
        "num=int(input(\"inter a number :\"))\n",
        "n=num\n",
        "i=0\n",
        "sum=0\n",
        "cube=1\n",
        "while(n!=0):\n",
        "  f=n%10\n",
        "  cube=f**3\n",
        "  sum=sum+cube\n",
        "  n=n//10\n",
        "\n",
        "print(\"the sum of the cube of digit :\",sum)\n",
        "if(sum==num):\n",
        "  print(\"number is armstrong number\")\n",
        "else:\n",
        "  \n",
        "  print(\"number is not armstrong number\")  \n"
      ]
    },
    {
      "cell_type": "code",
      "source": [
        "# Q10. Write a Python program to check given Number is Palindrome or Not\n",
        "#  A palindrome number is a number that is same after reverse. For example 121, 34543,\n",
        "# 343, 131, 48984 are the palindrome numbers.\n",
        "# Enter any Number: 1331\n",
        "# Expected output: This is Palindrome Number\n",
        "n=int(input(\"enter the number \"))\n",
        "num=n\n",
        "if(n>10):\n",
        "  rev=0\n",
        "  while(num>0):\n",
        "    a=num%10\n",
        "    rev=rev*10+a\n",
        "    num=num//10\n",
        "  print(rev) \n",
        "  print(\"reverse of the digit :\",rev)\n",
        "  if(rev==num):\n",
        "    print(\"number is palindrome\")\n",
        "  else:\n",
        "    print(\"number is not palindrome\")  \n",
        "else:\n",
        "   print(\"you enter a one digit number\")"
      ],
      "metadata": {
        "colab": {
          "base_uri": "https://localhost:8080/"
        },
        "id": "25F352FJMC1q",
        "outputId": "65a03b75-6329-4618-b292-96ad39f2d145"
      },
      "execution_count": null,
      "outputs": [
        {
          "output_type": "stream",
          "name": "stdout",
          "text": [
            "enter the number 3\n",
            "you enter a one digit number\n"
          ]
        }
      ]
    },
    {
      "cell_type": "code",
      "source": [
        "#  Q11. Write a Python program to print fibonacci series\n",
        "# Fibonacci Series in C: In case of fibonacci series, next number is the sum of previous two\n",
        "# numbers for example 0, 1, 1, 2, 3, 5, 8, 13, 21 etc. The first two numbers of fibonacci series\n",
        "# are 0 and 1.\n",
        "# Enter the number of elements\n",
        "# Enter Number of Element: 15\n",
        "# Expected Output:\n",
        "# 0 1 1 2 3 5 8 13 21 34 55 89 144 233 377 \n",
        "n=int(input(\"enter the number of elemnt of fibonacy series :\"))\n",
        "i=0\n",
        "first=0\n",
        "second=1\n",
        "sum=0\n",
        "while(i<n):\n",
        "  if(i==0):\n",
        "    print(i)\n",
        "  sum=first+second\n",
        "  second=first\n",
        "  first=sum\n",
        "  print(sum)\n",
        "  i=i+1\n",
        "\n"
      ],
      "metadata": {
        "colab": {
          "base_uri": "https://localhost:8080/"
        },
        "id": "yQQVX1CZUOQn",
        "outputId": "4ce41aa7-8c89-4692-fb28-6a9479396ecb"
      },
      "execution_count": null,
      "outputs": [
        {
          "output_type": "stream",
          "name": "stdout",
          "text": [
            "enter the number of elemnt of fibonacy series :14\n",
            "0\n",
            "1\n",
            "1\n",
            "2\n",
            "3\n",
            "5\n",
            "8\n",
            "13\n",
            "21\n",
            "34\n",
            "55\n",
            "89\n",
            "144\n",
            "233\n",
            "377\n"
          ]
        }
      ]
    },
    {
      "cell_type": "code",
      "source": [
        "# Q12. Write a Python program to print reverse Number.\n",
        "# Enter Any Number: 123\n",
        "# Expected output: 321\n",
        "num=int(input(\"enter the number :\"))\n",
        "rev=0\n",
        "t=0\n",
        "print(\"before rev :\",num)\n",
        "while(num>0):\n",
        "  t=num%10\n",
        "  rev=rev*10+t\n",
        "  num=num//10\n",
        "print(\"after rev :\",rev)"
      ],
      "metadata": {
        "colab": {
          "base_uri": "https://localhost:8080/"
        },
        "id": "nnfpWRGMd_um",
        "outputId": "ca8efee6-b28b-4497-e751-c8c7723c2d8b"
      },
      "execution_count": 5,
      "outputs": [
        {
          "output_type": "stream",
          "name": "stdout",
          "text": [
            "enter the number :124\n",
            "before rev : 124\n",
            "after rev : 421\n"
          ]
        }
      ]
    },
    {
      "cell_type": "code",
      "source": [
        "# Q13. Write a Python program to find sum of all even numbers between 1 to n.\n",
        "# Enter Number: 5\n",
        "# Expected output\n",
        "# Sum of All Even Numbers From 1 to n : 6\n",
        "n=int(input(\"enter the number :\"))\n",
        "sum=0\n",
        "for x in range(n):\n",
        "  if (x%2==0):\n",
        "    # print(x)\n",
        "    sum=sum+x;\n",
        "print(\"sum of all even integer from 0 to \",n ,\":\",sum)\n"
      ],
      "metadata": {
        "id": "qH_sle9GhGCf",
        "colab": {
          "base_uri": "https://localhost:8080/"
        },
        "outputId": "faeddc41-ba57-4726-e390-57b6e51e019f"
      },
      "execution_count": 7,
      "outputs": [
        {
          "output_type": "stream",
          "name": "stdout",
          "text": [
            "enter the number :24\n",
            "0\n",
            "2\n",
            "4\n",
            "6\n",
            "8\n",
            "10\n",
            "12\n",
            "14\n",
            "16\n",
            "18\n",
            "20\n",
            "22\n",
            "sum of all even integer from 0 to  24 : 132\n"
          ]
        }
      ]
    },
    {
      "cell_type": "code",
      "source": [
        "# Q14. Write a Python program to find first and last digit of a number.\n",
        "# Enter Any Number: 123\n",
        "# Expected output\n",
        "# First Digit of the number: 1\n",
        "# Last digit of the number: 3\n",
        "number = int(input(\"enter the number :\"))\n",
        "i=0\n",
        "first=0\n",
        "last=0\n",
        "while(number>0):\n",
        "    \n",
        "  a=number%10\n",
        "  number=number//10\n",
        "  if(i==0):\n",
        "    last=a\n",
        "  else:\n",
        "    first=a  \n",
        "  i=i+1\n",
        "print(\"the first digit :\",first)  \n",
        "print(\"the last  digit :\",last)  \n"
      ],
      "metadata": {
        "colab": {
          "base_uri": "https://localhost:8080/"
        },
        "id": "VqzYnA1V18IQ",
        "outputId": "7aa9aeab-4b9e-4060-8a70-196541249522"
      },
      "execution_count": 13,
      "outputs": [
        {
          "output_type": "stream",
          "name": "stdout",
          "text": [
            "enter the number :12345678\n",
            "the first digit : 1\n",
            "the last  digit : 8\n"
          ]
        }
      ]
    },
    {
      "cell_type": "code",
      "source": [
        "# Q15. Write a Python program to swap first and last digits of a number.\n",
        "# Enter Any Number: 486\n",
        "# After swap first and last digits: 684\n",
        "number = int(input(\"enter the number :\"))\n",
        "n=number\n",
        "i=1\n",
        "first=0\n",
        "last=0\n",
        "while(n>0):\n",
        "    \n",
        "  a=n%10\n",
        "  n=n//10\n",
        "  if(i==1):\n",
        "    last=a\n",
        "  else:\n",
        "    first=a  \n",
        "  i=i+1\n",
        "print(\"the first digit :\",first)  \n",
        "number=number-last\n",
        "print(\"the last  digit :\",last)  \n",
        "i=i-2\n",
        "number=number-10**i*first\n",
        "number=number+first\n",
        "number=number+10**i*last\n",
        "print(\"after swapping the last and first digit :\",number)\n",
        "\n"
      ],
      "metadata": {
        "colab": {
          "base_uri": "https://localhost:8080/"
        },
        "id": "B4o24yd_2o6U",
        "outputId": "d1b64abf-da1d-4957-cd81-fe296f82bbe7"
      },
      "execution_count": 12,
      "outputs": [
        {
          "output_type": "stream",
          "name": "stdout",
          "text": [
            "enter the number :678\n",
            "the first digit : 6\n",
            "the last  digit : 8\n",
            "after swapping the last and first digit : 876\n"
          ]
        }
      ]
    },
    {
      "cell_type": "code",
      "source": [
        "# Q16. Write a Python program to find all factors of a number.\n",
        "# Enter Any Number: 12\n",
        "# Factor of Number: 1,2,3,4,6,12\n",
        "num=int(input(\"enter a number :\"))\n",
        "for x in range(1,num+1):\n",
        "  if(num%x==0):\n",
        "    print(\"fact :\",x)"
      ],
      "metadata": {
        "colab": {
          "base_uri": "https://localhost:8080/"
        },
        "id": "4PPTWNSx5qUn",
        "outputId": "4d353abf-a6b6-4bc6-e609-9f69ef4a87e6"
      },
      "execution_count": 16,
      "outputs": [
        {
          "output_type": "stream",
          "name": "stdout",
          "text": [
            "enter a number :13\n",
            "fact : 1\n",
            "fact : 13\n"
          ]
        }
      ]
    },
    {
      "cell_type": "code",
      "source": [
        "# Q17. Write a Python program to find maximum between two numbers\n",
        "# Enter First Number: 10\n",
        "# Enter Second Number: 20\n",
        "# Maximum of two Numbers: 20\n",
        "num1=int(input(\"enter a number :\"))\n",
        "num2=int(input(\"enter a number :\"))\n",
        "if(num1<num2):\n",
        "  print(\"maxed number :\",num2)\n",
        "else:\n",
        "    print(\"maxed number :\",num1)\n",
        "\n"
      ],
      "metadata": {
        "colab": {
          "base_uri": "https://localhost:8080/"
        },
        "id": "Ok-m1EbV9oUy",
        "outputId": "56e1daa6-08cc-4446-b73f-399cb12b6e89"
      },
      "execution_count": 17,
      "outputs": [
        {
          "output_type": "stream",
          "name": "stdout",
          "text": [
            "enter a number :213\n",
            "enter a number :-235\n",
            "maxed number : 213\n"
          ]
        }
      ]
    },
    {
      "cell_type": "code",
      "source": [
        "# Write a Python program to check whether a number is even or odd without using if else\n",
        "# and ternary operator.\n",
        "# Enter Any Number : 48\n",
        "# Expected output: Even Number\n",
        "n = int(input())\n",
        "arr = [\"zero\",\"Even\", \"Odd\"]\n",
        "print (\"Enter the number\")\n",
        "print (arr[n % 2])\n"
      ],
      "metadata": {
        "colab": {
          "base_uri": "https://localhost:8080/"
        },
        "id": "oVzC5Caf-Xe3",
        "outputId": "54635369-8d0a-4141-b10f-b5bbd63c2ebb"
      },
      "execution_count": 20,
      "outputs": [
        {
          "output_type": "stream",
          "name": "stdout",
          "text": [
            "0\n",
            "Enter the number\n",
            "zero\n"
          ]
        }
      ]
    },
    {
      "cell_type": "code",
      "source": [
        "# Q19. Write a Python program to swap two Numbers without using arithmetic operations and\n",
        "# without using third variable.\n",
        "# Enter A: 10\n",
        "# Enter B: 20\n",
        "# Before Swapping:\n",
        "# A= 10 B= 20\n",
        "# After Swapping:\n",
        "# A= 20 B= 10\n",
        "numb1=int(input(\"enter first number \"))\n",
        "numb2=int(input(\"enter second number \"))\n",
        "print(\"before swapping :\")\n",
        "print(\"num1 :\",numb1)\n",
        "print(\"num2 :\",numb2)\n",
        "numb1=numb1^numb2\n",
        "numb2=numb1^numb2\n",
        "numb1=numb1^numb2\n",
        "print(\"after swapping :\")\n",
        "print(\"num1 :\",numb1)\n",
        "print(\"num2 :\",numb2)\n"
      ],
      "metadata": {
        "colab": {
          "base_uri": "https://localhost:8080/"
        },
        "id": "3Gyty_6B_UW0",
        "outputId": "10db60e8-64a5-41cd-8184-026eac20150d"
      },
      "execution_count": 23,
      "outputs": [
        {
          "output_type": "stream",
          "name": "stdout",
          "text": [
            "enter first number 652\n",
            "enter second number 4367\n",
            "before swapping :\n",
            "num1 : 652\n",
            "num2 : 4367\n",
            "after swapping :\n",
            "num1 : 4367\n",
            "num2 : 652\n"
          ]
        }
      ]
    },
    {
      "cell_type": "code",
      "source": [
        "from re import A\n",
        "# Q20. Write a Python program to print Following Pattern\n",
        "# A\n",
        "# B C\n",
        "# D E F\n",
        "# G H I J\n",
        "# K L M N O\n",
        "\n",
        "for r in range(65,70):\n",
        "  k=r\n",
        "  for c in range(65,r+1):\n",
        "    print(chr(k),end=\"\")\n",
        "    k=k+1  \n",
        "  print()  \n",
        "  \n",
        "\n",
        "\n"
      ],
      "metadata": {
        "colab": {
          "base_uri": "https://localhost:8080/"
        },
        "id": "Kwm4OkX5A1um",
        "outputId": "dc3b6b1c-2e95-4cb4-8209-bf569439b1bb"
      },
      "execution_count": 48,
      "outputs": [
        {
          "output_type": "stream",
          "name": "stdout",
          "text": [
            "A\n",
            "BC\n",
            "CDE\n",
            "DEFG\n",
            "EFGHI\n"
          ]
        }
      ]
    }
  ],
  "metadata": {
    "colab": {
      "collapsed_sections": [],
      "provenance": [],
      "authorship_tag": "ABX9TyOSkj4hwPBQs4WgvTAKOFcj",
      "include_colab_link": true
    },
    "kernelspec": {
      "display_name": "Python 3",
      "name": "python3"
    },
    "language_info": {
      "name": "python"
    }
  },
  "nbformat": 4,
  "nbformat_minor": 0
}