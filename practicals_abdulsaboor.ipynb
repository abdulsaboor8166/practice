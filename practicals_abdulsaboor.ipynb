{
  "nbformat": 4,
  "nbformat_minor": 0,
  "metadata": {
    "colab": {
      "provenance": [],
      "collapsed_sections": [],
      "include_colab_link": true
    },
    "kernelspec": {
      "name": "python3",
      "display_name": "Python 3"
    },
    "language_info": {
      "name": "python"
    }
  },
  "cells": [
    {
      "cell_type": "markdown",
      "metadata": {
        "id": "view-in-github",
        "colab_type": "text"
      },
      "source": [
        "<a href=\"https://colab.research.google.com/github/abdulsaboor8166/practice/blob/main/practicals_abdulsaboor.ipynb\" target=\"_parent\"><img src=\"https://colab.research.google.com/assets/colab-badge.svg\" alt=\"Open In Colab\"/></a>"
      ]
    },
    {
      "cell_type": "code",
      "execution_count": null,
      "metadata": {
        "colab": {
          "base_uri": "https://localhost:8080/"
        },
        "id": "DJr10K5rCt2_",
        "outputId": "dbe5b48c-5b6f-4313-8368-69476506e083"
      },
      "outputs": [
        {
          "output_type": "stream",
          "name": "stdout",
          "text": [
            "question1\n",
            "my name abdul saboor\n"
          ]
        }
      ],
      "source": [
        "\n",
        "print ( \"question1\" ) \n",
        "name =\"abdul saboor\" \n",
        "print ( \"my name\" , name);"
      ]
    },
    {
      "cell_type": "code",
      "source": [
        "print(\"question2\")\n",
        "# question 2 : program  to show literal contants :\n",
        "str1=\"abdul\"\n",
        "str2=\" saboor\"\n",
        "print(str1+str2)"
      ],
      "metadata": {
        "colab": {
          "base_uri": "https://localhost:8080/"
        },
        "id": "G2ByI108C36s",
        "outputId": "20a777da-86d8-41c2-c2a7-8392999c2bba"
      },
      "execution_count": null,
      "outputs": [
        {
          "output_type": "stream",
          "name": "stdout",
          "text": [
            "question2\n",
            "abdul saboor\n",
            "question13\n"
          ]
        }
      ]
    },
    {
      "cell_type": "code",
      "source": [
        "print(\"question3\")\n",
        "#question 3 : write a program to show the numbers \n",
        "num1= input(\"enter a number :\")\n",
        "num1=int(num1)\n",
        "num2= input(\"enter a number :\")\n",
        "num2=int(num2)\n",
        "print(\"\\naddition\",num1+num2,\"\\nsubstraction\",num1-num2,\"\\nmultiplication\",num1*num2,\"\\ndivision\",num1+num2,\"\\nmodulus\",num1%num2)"
      ],
      "metadata": {
        "colab": {
          "base_uri": "https://localhost:8080/"
        },
        "id": "FBz2IaFqC8c_",
        "outputId": "0dad21cb-3b64-4317-c7bc-d42c18547178"
      },
      "execution_count": null,
      "outputs": [
        {
          "output_type": "stream",
          "name": "stdout",
          "text": [
            "question3\n",
            "enter a number :34\n",
            "enter a number :56\n",
            "\n",
            "addition 90 \n",
            "substraction -22 \n",
            "multiplication 1904 \n",
            "division 90 \n",
            "modulus 34\n"
          ]
        }
      ]
    },
    {
      "cell_type": "code",
      "source": [
        "\n",
        "print(\"question4\")\n",
        "#question 4 : write a program to show variable and basic data types\n",
        "num = 34\n",
        "string= \"zara\"\n",
        "float_point=3.24\n",
        "boolean=True\n",
        "print(num)\n",
        "print(string)\n",
        "print(float_point)\n",
        "print(boolean)\n",
        "print(type(num))\n",
        "print(type(string))\n",
        "print(type(float_point))\n",
        "print(type(boolean))"
      ],
      "metadata": {
        "colab": {
          "base_uri": "https://localhost:8080/"
        },
        "id": "egbpNaTRDH-x",
        "outputId": "d04937ac-51c5-450e-dd37-bea3a60893c1"
      },
      "execution_count": null,
      "outputs": [
        {
          "output_type": "stream",
          "name": "stdout",
          "text": [
            "question4\n",
            "34\n",
            "zara\n",
            "3.24\n",
            "True\n",
            "<class 'int'>\n",
            "<class 'str'>\n",
            "<class 'float'>\n",
            "<class 'bool'>\n"
          ]
        }
      ]
    },
    {
      "cell_type": "markdown",
      "source": [],
      "metadata": {
        "id": "kt6A8LBEDjkW"
      }
    },
    {
      "cell_type": "code",
      "source": [
        "print(\"question5\")\n",
        "#question 5 : write a program to show string \n",
        "string = input(\"enter a string \")\n",
        "print(string)\n"
      ],
      "metadata": {
        "colab": {
          "base_uri": "https://localhost:8080/"
        },
        "id": "ZIFBH2SGDX8I",
        "outputId": "f797cbdb-83e3-4452-e09e-57e91f86e0a0"
      },
      "execution_count": null,
      "outputs": [
        {
          "output_type": "stream",
          "name": "stdout",
          "text": [
            "question5\n",
            "enter a string zero\n",
            "zero\n"
          ]
        }
      ]
    },
    {
      "cell_type": "code",
      "source": [
        "print(\"question 6\")\n",
        "#question 6 : write a program to show escape sequence\n",
        "print(\"hello world \\nwelcome to \\\"python\\\"\")\n",
        "print(\"you can use COLAB\\\\VS CODE\\\\OTHER IDE\")"
      ],
      "metadata": {
        "colab": {
          "base_uri": "https://localhost:8080/"
        },
        "id": "vmGq_4rEDdNz",
        "outputId": "68dea7b1-6875-4025-fc6a-1e6eab14b72d"
      },
      "execution_count": null,
      "outputs": [
        {
          "output_type": "stream",
          "name": "stdout",
          "text": [
            "question 6\n",
            "hello world \n",
            "welcome to \"python\"\n",
            "you can use COLAB\\VS CODE\\OTHER IDE\n"
          ]
        }
      ]
    },
    {
      "cell_type": "code",
      "source": [
        "print(\"question 7\")\n",
        "#question 7 : write a program to show operator and exopression\n",
        "num1=35;\n",
        "num2=45;\n",
        "str1=\"abdul\"\n",
        "str2=\"saboor\"\n",
        "print(num1,\"+\",num2,\"=\",num1+num2)\n",
        "print(str1,\"+\",str2,\"=\",str1+str2)\n",
        "print(str1,\"+\",num1,\"=\",str1,num1)\n",
        "\n"
      ],
      "metadata": {
        "colab": {
          "base_uri": "https://localhost:8080/"
        },
        "id": "WX8Zd2gJEMPJ",
        "outputId": "23e1dd8b-8697-4be4-c85a-4daefbdd2313"
      },
      "execution_count": null,
      "outputs": [
        {
          "output_type": "stream",
          "name": "stdout",
          "text": [
            "question 7\n",
            "35 + 45 = 80\n",
            "abdul + saboor = abdulsaboor\n",
            "abdul + 35 = abdul 35\n"
          ]
        }
      ]
    },
    {
      "cell_type": "code",
      "source": [
        "print(\"question 8\")\n",
        "#question 8 : write a program to show evaluation order\n",
        "#bodmas\n",
        "length = input(\"enter length \")\n",
        "length = int(length)\n",
        "breath = input(\"enter breath \")\n",
        "breath = int(breath)\n",
        "area = length*breath\n",
        "perimeter = 2*(length+breath)\n",
        "print(\"the area of rectangle with \\n length :\",length,\"\\nbreath :\",breath,\"\\n area :\",area)\n",
        "print(\"the perimeter of rectangle with \\n length :\",length,\"\\nbreath :\",breath,\"\\n per1imeter :\",perimeter)"
      ],
      "metadata": {
        "id": "gIiaIVdLF_bJ"
      },
      "execution_count": null,
      "outputs": []
    },
    {
      "cell_type": "code",
      "source": [
        "print(\"question 8 :\")\n",
        "# white a program to show the indentation\n",
        "\n",
        "print(\"hello           world\")\n",
        "print(\"hello    /n       world\")\n",
        "print(\"hello      //     world\")\n",
        "\n"
      ],
      "metadata": {
        "colab": {
          "base_uri": "https://localhost:8080/"
        },
        "id": "nFU2Y_u0KNG4",
        "outputId": "c4667da1-cd43-4f6e-f902-bfbff21e4472"
      },
      "execution_count": null,
      "outputs": [
        {
          "output_type": "stream",
          "name": "stdout",
          "text": [
            "hello           world\n",
            "hello    /n       world\n",
            "hello      //     world\n",
            "hello           world\n"
          ]
        }
      ]
    },
    {
      "cell_type": "code",
      "source": [
        "name =\"saboor\"\n",
        "print(name)\n",
        "print(len(name))"
      ],
      "metadata": {
        "colab": {
          "base_uri": "https://localhost:8080/"
        },
        "id": "xXhpMljEh1j3",
        "outputId": "5ae37668-1e0e-4e72-81e7-c652beaa045b"
      },
      "execution_count": null,
      "outputs": [
        {
          "output_type": "stream",
          "name": "stdout",
          "text": [
            "saboor\n",
            "6\n"
          ]
        }
      ]
    },
    {
      "cell_type": "code",
      "source": [],
      "metadata": {
        "id": "cr-5JUYih1qS"
      },
      "execution_count": null,
      "outputs": []
    },
    {
      "cell_type": "code",
      "source": [
        "print(\"question 9\")\n",
        "#question 9 : write a program to show the input\n",
        "num=input(\"enter a number :\")\n",
        "num= int(num);\n",
        "float_num=input(\"enter a float number :\")\n",
        "float_num= float(float_num);\n",
        "string=input(\"enter a string :\")\n",
        "\n",
        "boolean=input(\"enter a boolean :\")\n",
        "boolean= bool(boolean);\n",
        "print(\"the number you enter :\",num)\n",
        "print(\"the float number you enter :\",float_num)\n",
        "print(\"the string you enter :\",string)\n",
        "print(\"the boolean you enter :\",boolean)"
      ],
      "metadata": {
        "colab": {
          "base_uri": "https://localhost:8080/"
        },
        "id": "fw7ROd8TKNUP",
        "outputId": "e34495e5-e643-473c-e851-b4911f078307"
      },
      "execution_count": null,
      "outputs": [
        {
          "output_type": "stream",
          "name": "stdout",
          "text": [
            "question 9\n",
            "enter a number :3\n",
            "enter a float number :54\n",
            "enter a string :dsf\n",
            "enter a boolean :True\n",
            "the number you enter : 3\n",
            "the float number you enter : 54.0\n",
            "the string you enter : dsf\n",
            "the boolean you enter : True\n"
          ]
        }
      ]
    },
    {
      "cell_type": "code",
      "source": [
        "print(\"question 10\")\n",
        "#question 10 : write a program to show the ouput\n",
        "num=input(\"enter a number :\")\n",
        "num= int(num);\n",
        "float_num=input(\"enter a float number :\")\n",
        "float_num= float(float_num);\n",
        "string=input(\"enter a string :\")\n",
        "\n",
        "b0oolean=input(\"enter a boolean :\")\n",
        "9boolean= bool(boolean);\n",
        "print(\"the number you enter :\",num)\n",
        "print(\"the float number you enter :\",float_num)\n",
        "print(\"the string you enter :\",string)\n",
        "print(\"the boolean you enter :\",boolean)"
      ],
      "metadata": {
        "id": "gV3KmEAFM4u9"
      },
      "execution_count": null,
      "outputs": []
    },
    {
      "cell_type": "code",
      "source": [
        "def add(a,b):\n",
        " \n",
        " c=a,b\n",
        " \n",
        " print(c)\n",
        "add()\n",
        "add()\n"
      ],
      "metadata": {
        "colab": {
          "base_uri": "https://localhost:8080/"
        },
        "id": "r-w_aPZWM9sv",
        "outputId": "fbeeb275-a970-4a90-d03f-9f11578ded28"
      },
      "execution_count": null,
      "outputs": [
        {
          "output_type": "stream",
          "name": "stdout",
          "text": [
            "5\n",
            "5\n"
          ]
        }
      ]
    },
    {
      "cell_type": "code",
      "source": [
        "print(\"question 9 :\")\n",
        "#write a code to show comment\n",
        "# keywprd use to make comment\n",
        "\"\"\"\n",
        "  hello \n",
        "  this is \n",
        "  multi line \n",
        "  comment\n",
        "\"\"\""
      ],
      "metadata": {
        "colab": {
          "base_uri": "https://localhost:8080/",
          "height": 53
        },
        "id": "0hM72RdkPdJy",
        "outputId": "f40f1c8c-b961-4b5d-fe24-647b8343eee9"
      },
      "execution_count": null,
      "outputs": [
        {
          "output_type": "stream",
          "name": "stdout",
          "text": [
            "question 9 :\n"
          ]
        },
        {
          "output_type": "execute_result",
          "data": {
            "text/plain": [
              "'\\n  hello \\n  this is \\n  multi line \\n  comment\\n'"
            ],
            "application/vnd.google.colaboratory.intrinsic+json": {
              "type": "string"
            }
          },
          "metadata": {},
          "execution_count": 6
        }
      ]
    },
    {
      "cell_type": "code",
      "source": [
        "\n",
        "x= 2+5j\n",
        "y= 3\n",
        "print(x)\n",
        "\n"
      ],
      "metadata": {
        "colab": {
          "base_uri": "https://localhost:8080/"
        },
        "id": "wGWhfMoeuyAg",
        "outputId": "35d608e6-5fa1-4254-9bf4-488434a2bda4"
      },
      "execution_count": null,
      "outputs": [
        {
          "output_type": "stream",
          "name": "stdout",
          "text": [
            "(2+5j)\n"
          ]
        }
      ]
    },
    {
      "cell_type": "code",
      "source": [
        "#list in python:\n",
        "name_list=[\"saboor\",\"pawan\",\"Almas\"]\n",
        "print(name_list)\n",
        "roll_no_list=[\"01\",\"02\",3]\n",
        "print(type(roll_no_list))\n",
        "i=0\n",
        "while i < 3:\n",
        " print(roll_no_list[i]+\"\\t\"+name_list[i]+\"\\t\")\n",
        " i+=1\n",
        "print(type(roll_no_list[0]))"
      ],
      "metadata": {
        "colab": {
          "base_uri": "https://localhost:8080/",
          "height": 429
        },
        "id": "TugnkLatkEW_",
        "outputId": "ed34ff3c-a189-4aa6-ddee-c7ae3d393c98"
      },
      "execution_count": null,
      "outputs": [
        {
          "output_type": "stream",
          "name": "stdout",
          "text": [
            "['saboor', 'pawan', 'Almas']\n",
            "<class 'list'>\n",
            "01\tsaboor\t\n",
            "02\tpawan\t\n"
          ]
        },
        {
          "output_type": "error",
          "ename": "TypeError",
          "evalue": "ignored",
          "traceback": [
            "\u001b[0;31m---------------------------------------------------------------------------\u001b[0m",
            "\u001b[0;31mTypeError\u001b[0m                                 Traceback (most recent call last)",
            "\u001b[0;32m<ipython-input-1-2e3b6d3c007c>\u001b[0m in \u001b[0;36m<module>\u001b[0;34m\u001b[0m\n\u001b[1;32m      6\u001b[0m \u001b[0mi\u001b[0m\u001b[0;34m=\u001b[0m\u001b[0;36m0\u001b[0m\u001b[0;34m\u001b[0m\u001b[0;34m\u001b[0m\u001b[0m\n\u001b[1;32m      7\u001b[0m \u001b[0;32mwhile\u001b[0m \u001b[0mi\u001b[0m \u001b[0;34m<\u001b[0m \u001b[0;36m3\u001b[0m\u001b[0;34m:\u001b[0m\u001b[0;34m\u001b[0m\u001b[0;34m\u001b[0m\u001b[0m\n\u001b[0;32m----> 8\u001b[0;31m  \u001b[0mprint\u001b[0m\u001b[0;34m(\u001b[0m\u001b[0mroll_no_list\u001b[0m\u001b[0;34m[\u001b[0m\u001b[0mi\u001b[0m\u001b[0;34m]\u001b[0m\u001b[0;34m+\u001b[0m\u001b[0;34m\"\\t\"\u001b[0m\u001b[0;34m+\u001b[0m\u001b[0mname_list\u001b[0m\u001b[0;34m[\u001b[0m\u001b[0mi\u001b[0m\u001b[0;34m]\u001b[0m\u001b[0;34m+\u001b[0m\u001b[0;34m\"\\t\"\u001b[0m\u001b[0;34m)\u001b[0m\u001b[0;34m\u001b[0m\u001b[0;34m\u001b[0m\u001b[0m\n\u001b[0m\u001b[1;32m      9\u001b[0m  \u001b[0mi\u001b[0m\u001b[0;34m+=\u001b[0m\u001b[0;36m1\u001b[0m\u001b[0;34m\u001b[0m\u001b[0;34m\u001b[0m\u001b[0m\n\u001b[1;32m     10\u001b[0m \u001b[0mprint\u001b[0m\u001b[0;34m(\u001b[0m\u001b[0mtype\u001b[0m\u001b[0;34m(\u001b[0m\u001b[0mroll_no_list\u001b[0m\u001b[0;34m[\u001b[0m\u001b[0;36m0\u001b[0m\u001b[0;34m]\u001b[0m\u001b[0;34m)\u001b[0m\u001b[0;34m)\u001b[0m\u001b[0;34m\u001b[0m\u001b[0;34m\u001b[0m\u001b[0m\n",
            "\u001b[0;31mTypeError\u001b[0m: unsupported operand type(s) for +: 'int' and 'str'"
          ]
        }
      ]
    },
    {
      "cell_type": "code",
      "source": [
        "#question 1 :\n",
        "#create a list :\n",
        "print(\"question 1: creating and printting list :\")\n",
        "first_list=[\"aman\",\"aditya\",\"saboor\",\"sahu\",\"gupta\"]\n",
        "print(first_list)"
      ],
      "metadata": {
        "id": "mNZthqzzwNW0",
        "colab": {
          "base_uri": "https://localhost:8080/"
        },
        "outputId": "e53efc92-9db4-4404-cae7-1ff52fef9697"
      },
      "execution_count": null,
      "outputs": [
        {
          "output_type": "stream",
          "name": "stdout",
          "text": [
            "question 14: creating and printting list :\n",
            "['aman', 'aditya', 'saboor', 'sahu', 'gupta']\n"
          ]
        }
      ]
    },
    {
      "cell_type": "code",
      "source": [
        "#question 2 :\n",
        "#create a list with duplicate members :\n",
        "print(\"question 2: creating and printting list  with duplicate values :\")\n",
        "list_dupe=[\"saboor\",\"aman\",\"aman\",\"apple\",\"apple\",\"hello\",\"sahu\"]\n",
        "print(list_dupe)"
      ],
      "metadata": {
        "colab": {
          "base_uri": "https://localhost:8080/"
        },
        "id": "BAQEjqrpQbGM",
        "outputId": "fd6dd515-df73-44a4-809b-6e654e15b30f"
      },
      "execution_count": null,
      "outputs": [
        {
          "output_type": "stream",
          "name": "stdout",
          "text": [
            "question 15: creating and printting list  with duplicate values :\n",
            "['saboor', 'aman', 'aman', 'apple', 'apple', 'hello', 'sahu']\n"
          ]
        }
      ]
    },
    {
      "cell_type": "code",
      "source": [
        "#question 3 :\n",
        "#create a list and print its length :\n",
        "print(\"question 3: creating a list and print its length :\")\n",
        "list_len =[\"apple\",\"banana\",\"mango\",\"cherry\",\"grapes\"]\n",
        "print(list_len)\n",
        "print(\"The length of above list :\",len(list_len))\n"
      ],
      "metadata": {
        "colab": {
          "base_uri": "https://localhost:8080/"
        },
        "id": "RBsJD-AAQbKs",
        "outputId": "9ed3b295-5d57-466b-cd32-147d03769bbc"
      },
      "execution_count": null,
      "outputs": [
        {
          "output_type": "stream",
          "name": "stdout",
          "text": [
            "question 16: creating a list and print its length :\n",
            "['apple', 'banana', 'mango', 'cherry', 'grapes']\n",
            "The length of above list : 5\n"
          ]
        }
      ]
    },
    {
      "cell_type": "code",
      "source": [
        "#question 4 :\n",
        "#create a list with different data types :\n",
        "print(\"question 4:create a list with different data types :\")\n",
        "list_diff_type =[\"apple\",56,23.4556,True,\"a\"]\n",
        "print(list_diff_type)\n",
        "print(type(list_diff_type))\n"
      ],
      "metadata": {
        "id": "ju9KHbSfQbOa"
      },
      "execution_count": null,
      "outputs": []
    },
    {
      "cell_type": "code",
      "source": [
        "#question 5 :\n",
        "#create a list with different data types and show thier types :\n",
        "print(\"question 5:create a list with different data types and print thier types :\")\n",
        "list_diff_type =[\"apple\",56,23.4556,True,\"a\"]\n",
        "print(list_diff_type)\n",
        "print(type(list_diff_type))\n",
        "print(list_diff_type[0],\"=\",type(list_diff_type[0]))\n",
        "print(list_diff_type[1],\"=\",type(list_diff_type[1]))\n",
        "print(list_diff_type[2],\"=\",type(list_diff_type[2]))\n",
        "print(list_diff_type[3],\"=\",type(list_diff_type[3]))\n",
        "print(list_diff_type[4],\"=\",type(list_diff_type[4]))"
      ],
      "metadata": {
        "colab": {
          "base_uri": "https://localhost:8080/"
        },
        "id": "dfvmTh0BQbR2",
        "outputId": "3e5c342b-0698-4896-b41b-345b81dd4fc2"
      },
      "execution_count": null,
      "outputs": [
        {
          "output_type": "stream",
          "name": "stdout",
          "text": [
            "question 5:create a list with different data types and print thier types :\n",
            "['apple', 56, 23.4556, True, 'a']\n",
            "<class 'list'>\n",
            "apple = <class 'str'>\n",
            "56 = <class 'int'>\n",
            "23.4556 = <class 'float'>\n",
            "True = <class 'bool'>\n",
            "a = <class 'str'>\n"
          ]
        }
      ]
    },
    {
      "cell_type": "code",
      "source": [
        "#question 6 :\n",
        "#create a tuple :\n",
        "print(\"question 6: create a tuple  :\")\n",
        "first_tuple=(\"apple\",\"banana\",\"mango\")\n",
        "print(first_tuple)\n"
      ],
      "metadata": {
        "colab": {
          "base_uri": "https://localhost:8080/"
        },
        "id": "o5GsGFSMQbVP",
        "outputId": "8b6f0c54-6cb1-4672-acf2-ed618dd46398"
      },
      "execution_count": null,
      "outputs": [
        {
          "output_type": "stream",
          "name": "stdout",
          "text": [
            "question 6:create a tuple  :\n",
            "('apple', 'banana', 'mango')\n"
          ]
        }
      ]
    },
    {
      "cell_type": "code",
      "source": [
        "#question 7 :\n",
        "#create a tuple with duplicate values :\n",
        "print(\"question 7: create a tuple with duplicate values  :\")\n",
        "tuple_dupe=(\"apple\",\"banana\",\"mango\",\"apple\",\"banana\",\"mango\")\n",
        "print(tuple_dupe)\n"
      ],
      "metadata": {
        "colab": {
          "base_uri": "https://localhost:8080/"
        },
        "id": "R4ZXZbReQbYa",
        "outputId": "2bd2df05-c471-4fb3-81d2-c723e6e97526"
      },
      "execution_count": null,
      "outputs": [
        {
          "output_type": "stream",
          "name": "stdout",
          "text": [
            "question 6: create a tuple with duplicate values  :\n",
            "('apple', 'banana', 'mango', 'apple', 'banana', 'mango')\n"
          ]
        }
      ]
    },
    {
      "cell_type": "code",
      "source": [
        "#question 8 :\n",
        "#use length on tuple :\n",
        "print(\"question 8: find tuple length  :\")\n",
        "tuple_len=(\"dog\",\"cat\",\"bird\",\"monkey\")\n",
        "print(tuple_len)\n",
        "print(\"the length of  tuple :\",len(tuple_len))\n"
      ],
      "metadata": {
        "colab": {
          "base_uri": "https://localhost:8080/"
        },
        "id": "CHJ7Q_IGUqGW",
        "outputId": "ca9cb881-1744-40d2-adcb-2cdc96851800"
      },
      "execution_count": null,
      "outputs": [
        {
          "output_type": "stream",
          "name": "stdout",
          "text": [
            "question 8: find tuple length  :\n",
            "('dog', 'cat', 'bird', 'monkey')\n",
            "the length of  tuple : 4\n"
          ]
        }
      ]
    },
    {
      "cell_type": "code",
      "source": [
        "#question 9 :\n",
        "#create a tuple with different data types :\n",
        "print(\"question 9: create a tuple with different data types\")\n",
        "tuple_dif_type=(\"saboor\",19,9.3,True)\n",
        "print(tuple_dif_type)\n",
        "print(type(tuple_dif_type))"
      ],
      "metadata": {
        "colab": {
          "base_uri": "https://localhost:8080/"
        },
        "id": "BjBOfwvDUqT_",
        "outputId": "f1dd3f17-0039-4c9a-d620-bb013494cf31"
      },
      "execution_count": null,
      "outputs": [
        {
          "output_type": "stream",
          "name": "stdout",
          "text": [
            "question 9: create a tuple with different data types\n",
            "('saboor', 19, 9.3, True)\n",
            "<class 'tuple'>\n"
          ]
        }
      ]
    },
    {
      "cell_type": "code",
      "source": [
        "# questtion 10:\n",
        "# create a tuple with differrent data types and print their types \n",
        "print(\"question10: create a tuple with different data types and print its types\")\n",
        "tuple_different_type=(\"saboor\",19,9.3,True)\n",
        "print(tuple_different_type)\n",
        "print(tuple_dif_type[0] ,\"=\",type(tuple_dif_type[0]))\n",
        "print(tuple_dif_type[1] ,\"=\",type(tuple_dif_type[1]))\n",
        "print(tuple_dif_type[2] ,\"=\",type(tuple_dif_type[2]))\n",
        "print(tuple_dif_type[3] ,\"=\",type(tuple_dif_type[3]))"
      ],
      "metadata": {
        "colab": {
          "base_uri": "https://localhost:8080/"
        },
        "id": "YoY-NoxUUqf1",
        "outputId": "373fdd97-1b79-4aa3-8b09-13c88ad35940"
      },
      "execution_count": null,
      "outputs": [
        {
          "output_type": "stream",
          "name": "stdout",
          "text": [
            "('saboor', 19, 9.3, True)\n",
            "saboor = <class 'str'>\n",
            "19 = <class 'int'>\n",
            "9.3 = <class 'float'>\n",
            "True = <class 'bool'>\n"
          ]
        }
      ]
    },
    {
      "cell_type": "code",
      "source": [
        "\n",
        "# question 3: write a python program to convert given amount into smallest possible bank notes \n",
        "amount= int(input(\"enter the amount :\"))\n",
        "notes100=int(amount/100)\n",
        "print(notes100)\n",
        "amount=amount-notes100*100\n",
        "notes50= int(amount/50)\n",
        "print(notes50)\n",
        "amount=amount-notes50*50\n",
        "notes20= int(amount/20)\n",
        "print(notes20)\n",
        "amount=amount-notes20*20\n",
        "notes10= int(amount/10)\n",
        "print(notes10)\n",
        "amount=amount-notes10*10\n",
        "notes1= int(amount/1)\n",
        "print(notes1)\n",
        "print(\"\\nnotes of 100 :\",notes100,\"\\nnotes of 50 :\",notes50,\"\\nnotes of 20 :\",notes20,\"\\nnotes of 10 :\",notes10,\"\\nnotes of 1 :\",notes1)"
      ],
      "metadata": {
        "id": "CCAjr-_eH9sN",
        "outputId": "8d5900c1-5e1f-4386-ab7b-bd004860da53",
        "colab": {
          "base_uri": "https://localhost:8080/"
        }
      },
      "execution_count": null,
      "outputs": [
        {
          "output_type": "stream",
          "name": "stdout",
          "text": [
            "enter the amount :1388\n",
            "13\n",
            "1\n",
            "1\n",
            "1\n",
            "8\n",
            "\n",
            "notes of 100 : 13 \n",
            "notes of 50 : 1 \n",
            "notes of 20 : 1 \n",
            "notes of 10 : 1 \n",
            "notes of 1 : 8\n"
          ]
        }
      ]
    },
    {
      "cell_type": "code",
      "source": [
        "# question 1: \n",
        "# create a setc\n",
        "print(\"question 1: create a set\")\n",
        "asetOfNames ={\"saboor\",\"sahu\",\"aman\",\"prashun\"}\n",
        "print(asetOfNames) \n"
      ],
      "metadata": {
        "colab": {
          "base_uri": "https://localhost:8080/"
        },
        "id": "gBiIQJJz2tjZ",
        "outputId": "0a6c0504-7d6b-4acc-d2bc-d935543cde0e"
      },
      "execution_count": null,
      "outputs": [
        {
          "output_type": "stream",
          "name": "stdout",
          "text": [
            "question 1: create a set\n",
            "{'aman', 'sahu', 'saboor', 'prashun'}\n"
          ]
        }
      ]
    },
    {
      "cell_type": "code",
      "source": [
        "# question 2 :\n",
        "# create a set and try to print duplicatess values \n",
        "print(\"question 2: create a set and trying to print duplicate values :\")\n",
        "aSetOfDuplicate={\"apple\",\"banana\",\"cherry \",\"mango\",\"apple\",\"banana\",\"mango\"}\n",
        "\n",
        "print(aSetOfDuplicate)\n",
        "print(\" the vaues printed only 1 time because set does not allow duplicates item \")"
      ],
      "metadata": {
        "colab": {
          "base_uri": "https://localhost:8080/"
        },
        "id": "VgTPjqzb2t4h",
        "outputId": "d205c4bb-0265-4320-ca2e-e9c02cf2e885"
      },
      "execution_count": null,
      "outputs": [
        {
          "output_type": "stream",
          "name": "stdout",
          "text": [
            "question 2: create a set and trying to print duplicate values :\n",
            "{'banana', 'cherry ', 'apple', 'mango'}\n",
            " the vaues printed only 1 time because set does not allow duplicates item \n"
          ]
        }
      ]
    },
    {
      "cell_type": "code",
      "source": [
        "# question 3 :\n",
        "# create a set and print its length \n",
        "print(\"question  3: create a set and trying to print duplicate values :\")\n",
        "aset={\"goat\",\"cat\",\"whale\",\"bat\",\"bat\",\"dog\"}\n",
        "print(aset)\n",
        "print(\"the length of above set :\",len(aset))"
      ],
      "metadata": {
        "colab": {
          "base_uri": "https://localhost:8080/"
        },
        "id": "XFCzqkyH2uJ6",
        "outputId": "0d2833bf-c12e-4cda-eea7-6e258902deaa"
      },
      "execution_count": null,
      "outputs": [
        {
          "output_type": "stream",
          "name": "stdout",
          "text": [
            "question  3: create a set and trying to print duplicate values :\n",
            "{'whale', 'dog', 'cat', 'goat', 'bat'}\n",
            "the length of above set : 5\n"
          ]
        }
      ]
    },
    {
      "cell_type": "code",
      "source": [
        "# question 4 :\n",
        "# create a set and check data types of set: \n",
        "print(\"question 4: create a set and check data types of set :\")\n",
        "num=34\n",
        "msg=\"welcome to python\"\n",
        "decimalnum= 12.43\n",
        "condition = True\n",
        "asimpleset ={num,msg,decimalnum,condition}\n",
        "print(asimpleset)\n",
        "print(type(asimpleset))"
      ],
      "metadata": {
        "colab": {
          "base_uri": "https://localhost:8080/"
        },
        "id": "Pb2OhDcJ2rFM",
        "outputId": "7e385a46-c396-455d-993c-42c99e58a01a"
      },
      "execution_count": null,
      "outputs": [
        {
          "output_type": "stream",
          "name": "stdout",
          "text": [
            "question 4: create a set and check data types of its elements :\n",
            "{True, 34, 12.43, 'welcome to python'}\n",
            "<class 'set'>\n"
          ]
        }
      ]
    },
    {
      "cell_type": "code",
      "source": [
        "# question 5 :\n",
        "# create a set and check data types of its elements: \n",
        "print(\"question 5: create a set and check data types of its elements :\")\n",
        "num=34\n",
        "msg=\"welcome to python\"\n",
        "decimalnum= 12.43\n",
        "condition = True\n",
        "\n",
        "set_of_Datatypes={num,msg,decimalnum,condition}\n",
        "print(set_of_Datatypes)\n",
        "print(type(set_of_Datatypes))\n",
        "print(type(num))\n",
        "print(type(msg))\n",
        "print(type(decimalnum))\n",
        "print(type(condition))\n"
      ],
      "metadata": {
        "colab": {
          "base_uri": "https://localhost:8080/"
        },
        "id": "0tqvNg9M2r2b",
        "outputId": "11bdee54-775a-4138-a729-a0a1ae61f409"
      },
      "execution_count": null,
      "outputs": [
        {
          "output_type": "stream",
          "name": "stdout",
          "text": [
            "question 5: create a set and check data types of its elements :\n",
            "{True, 34, 12.43, 'welcome to python'}\n",
            "<class 'set'>\n",
            "<class 'int'>\n",
            "<class 'str'>\n",
            "<class 'float'>\n",
            "<class 'bool'>\n"
          ]
        }
      ]
    },
    {
      "cell_type": "code",
      "source": [
        "# question 6 :\n",
        "# create a set and access its elemts: \n",
        "print(\"question 6: create a set and access its elemts :\")\n",
        "myset ={\"car\",\"ship\",\"aeroplain\",\"cycle\",\"bike\"}\n",
        "for x in myset:\n",
        "  print(x)\n"
      ],
      "metadata": {
        "colab": {
          "base_uri": "https://localhost:8080/"
        },
        "id": "kPFCIeQY8w_x",
        "outputId": "415b5026-4c43-4e45-80fb-5a244667dd1d"
      },
      "execution_count": null,
      "outputs": [
        {
          "output_type": "stream",
          "name": "stdout",
          "text": [
            "question 6: create a set and access its elemts :\n",
            "cycle\n",
            "bike\n",
            "car\n",
            "aeroplain\n",
            "ship\n"
          ]
        }
      ]
    },
    {
      "cell_type": "code",
      "source": [
        "# question 7 :\n",
        "# create a set and find a item item present in set or not: \n",
        "print(\"question 7: create a set and find a item item present in set or not :\")\n",
        "search_set={\"apple\",\"banana\",\"cherry\",\"mango\",\"pinepaple\",\"orange\"}\n",
        "result =input(\"enter the fruit name you want to search in the set :\")\n",
        "yes_its_their = False\n",
        "for x in search_set:\n",
        "  if x==result:\n",
        "    yes_its_their = True\n",
        "    break\n",
        "  \n",
        "if yes_its_their :\n",
        "  print(\"yes its prresent in set\")\n",
        "else:\n",
        "    print(\"no its prresent in set\")\n"
      ],
      "metadata": {
        "colab": {
          "base_uri": "https://localhost:8080/"
        },
        "id": "qmjomLp68xdH",
        "outputId": "9a8d0cab-105a-4eed-ce40-54cdc892b974"
      },
      "execution_count": null,
      "outputs": [
        {
          "output_type": "stream",
          "name": "stdout",
          "text": [
            "question 7: create a set and find a item item present in set or not :\n",
            "enter the fruit name you want to search in the set :aeroplain\n",
            "no its prresent in set\n"
          ]
        }
      ]
    },
    {
      "cell_type": "code",
      "source": [
        "# question 8 :\n",
        "# create a set then add a item to the set: \n",
        "print(\"question 8: create a set then add a item to the set :\")\n",
        "oldset={\"monkey\",\"goat\",\"sheep\"}\n",
        "print(\"oldset :\",oldset)\n",
        "oldset.add(\"cow\")\n",
        "oldset.add(\"donkey\")\n",
        "print(\"after adding item :\",oldset)\n"
      ],
      "metadata": {
        "colab": {
          "base_uri": "https://localhost:8080/"
        },
        "id": "7-Lyd8ac_ljS",
        "outputId": "c185827a-d418-446d-8e26-3e7ce4c0b96f"
      },
      "execution_count": null,
      "outputs": [
        {
          "output_type": "stream",
          "name": "stdout",
          "text": [
            "question 7: create a set then add a item to the set :\n",
            "oldset : {'goat', 'sheep', 'monkey'}\n",
            "after adding item : {'goat', 'cow', 'monkey', 'donkey', 'sheep'}\n"
          ]
        }
      ]
    },
    {
      "cell_type": "code",
      "source": [
        "# question 9 :\n",
        "# create a 2 set then add them to create one set: \n",
        "print(\"question 9: create a set then add them to create one set :\")\n",
        "set1={\"saboor\",\"aman\",\"aditya\"}\n",
        "set2={\"prashun\",\"asif\",\"niteesh\"}\n",
        "print(\"set1 :\",set1)\n",
        "print(\"set2 :\",set2)\n",
        "set1.update(set2)\n",
        "\n",
        "print(\"after adding set1 and set2 : \",set1)"
      ],
      "metadata": {
        "colab": {
          "base_uri": "https://localhost:8080/"
        },
        "id": "tg_OEz6SAj1i",
        "outputId": "3bcac19e-c991-468e-fc0f-a8ed1abf8402"
      },
      "execution_count": null,
      "outputs": [
        {
          "output_type": "stream",
          "name": "stdout",
          "text": [
            "question 9: create a set then add them to create one set :\n",
            "set1 : {'aman', 'saboor', 'aditya'}\n",
            "set2 : {'asif', 'niteesh', 'prashun'}\n",
            "after adding set1 and set2 :  {'aman', 'asif', 'saboor', 'prashun', 'niteesh', 'aditya'}\n"
          ]
        }
      ]
    },
    {
      "cell_type": "code",
      "source": [],
      "metadata": {
        "id": "cHVhc3vfAkD4"
      },
      "execution_count": null,
      "outputs": []
    }
  ]
}